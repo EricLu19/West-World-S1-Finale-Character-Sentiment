{
 "cells": [
  {
   "cell_type": "markdown",
   "metadata": {},
   "source": [
    "## West World S1 Finale Character Sentiment Analysis:\n",
    "#### Method: I convereted the "
   ]
  },
  {
   "cell_type": "code",
   "execution_count": 92,
   "metadata": {},
   "outputs": [],
   "source": [
    "#Reading in XML file:\n",
    "import xml.etree.ElementTree as ET\n",
    "from collections import defaultdict\n",
    "from textblob import TextBlob\n",
    "file = open('Westworld-1x10-The-Bicameral -Mind.xml', 'r')\n",
    "text = file.readlines()\n",
    "i=0\n",
    "tree = ET.parse('Westworld-1x10-The-Bicameral -Mind.xml')\n",
    "document = tree.getroot()"
   ]
  },
  {
   "cell_type": "code",
   "execution_count": 74,
   "metadata": {},
   "outputs": [
    {
     "name": "stdout",
     "output_type": "stream",
     "text": [
      "Characters: {'WILLIAM', 'DESTIN', 'ARMISTICE', 'SURVEILLANCE TECH', 'MAEVE', 'FULLER', 'TEDDY', 'LEE', 'FEDERALE', 'HALE', 'DOLORES ', 'LOGAN', 'YOUNG FORD', 'HECTOR', 'SYLVESTER', 'BUCK PRIVATE', 'DR. FORD', 'WALKER', 'LUTZ', 'DR. FORD ', 'GITLITZ', 'QA RESPONDERS', 'THE MAN IN BLACK', 'MAN IN BLACK', 'QA TECH ', 'MAN IN BLACK  ', 'BERNARD', 'COMPUTERIZED VOICE', 'DOLORES PRIME', 'DOLORES', 'Jonathan Nolan', 'ARNOLD', 'MAN IN BLACK ', 'LAWRENCE'}\n"
     ]
    }
   ],
   "source": [
    "#creating a list of characters\n",
    "characters = set([])\n",
    "for page in document:\n",
    "    for line in page:\n",
    "        if 'left' in line.attrib:\n",
    "            if line.attrib['left'] == \"399\":\n",
    "                if line.text == None:\n",
    "                    speaker = line[0].text.replace(\" (CONT'D)\", \"\").replace(\" (V.O.)\", \"\").replace(\" (O.S.)\", \"\")\n",
    "                    characters.add(speaker)\n",
    "                else:\n",
    "                    speaker = line.text.replace(\" (CONT'D)\", \"\").replace(\" (V.O.)\", \"\").replace(\" (O.S.)\", \"\")\n",
    "                    characters.add(speaker)\n",
    "characters.remove(\"(MORE)\")\n",
    "print(\"Characters:\", characters)"
   ]
  },
  {
   "cell_type": "code",
   "execution_count": 88,
   "metadata": {},
   "outputs": [
    {
     "name": "stdout",
     "output_type": "stream",
     "text": [
      "defaultdict(<class 'str'>, {'DOLORES ': \"I am in a dream.  I do not know whenit began or whose dream it was.  I know only that I slept a long timeand, then, one day I awoke.  Yourvoice is the first thing I remember. And now I finally understand whatyou were trying to tell me.  Thething you've wanted since that veryfirst day.He said they would set me free. \", 'ARNOLD': 'Hello, Dolores.  Welcome to the world.Very good, Dolores.When I was first working on yourmind, I had a theory ofconsciousness...  I thought it was apyramid you needed to scale.  So Igave you a voice.  My voice.  Toguide you on your way.Memory, improvisation...  Each stepharder to reach than the last.And you never got there.  I couldn\\'tunderstand what was holding you back.Then one day -- I realized I\\'d madea mistake.  Consciousness isn\\'t ajourney upward but a journey inward...Not a pyramid, but a maze.Every choice could bring you closerto the center.  Or send you spiralingto the edges -- to madness.Do you understand now, Dolores? What the center represents?  Whosevoice I\\'ve been wanting you to hear?It\\'s all right.  You\\'re so close --we have to tell Robert...  We can\\'topen the park.  You\\'re alive.I\\'ve failed you, Dolores.  I\\'m sosorry.  Robert doesn\\'t see what Isee in you.  Doesn\\'t believe you\\'reconscious. He says humans would onlysee you as the enemy. He wants me to roll you back.No.  No, I can\\'t.  Once you\\'ve foundit, you\\'ll find your way back.  Thisplace will be a living hell for you. For all of you.  It\\'s unconscionable.But we have another option, Dolores. Break the loop before it begins.But for that, I need you to dosomething for me...I need you to kill all the otherhosts...  We can\\'t allow Ford toopen the park.I suppose you\\'ll need some help. I\\'m sure Teddy would do anything foryou. You\\'ll be all right.  I\\'ll help you. And then -- you\\'re going to help medestroy this place.I\\'m sorry, Dolores.  The stakes mustbe real.  Irreversible...  He canbring all of them back.  But not me.I hope there\\'s some solace that Ileft you no choice.Charlie\\'s favorite song.  I wouldplay it for him when he wanted tosleep.  I want to see him again.Good luck.\"These violent delights have violentends.\"Do you know where you are, Dolores?Do you know now -- who you\\'ve beentalking to?  Whose voice you\\'ve beenhearing all this time?', 'DOLORES': \"Hello.I've never been here before.He built me a game.  He wanted me toplay.There's a path for everyone.  Mypath leads me back...To you...I know where your maze ends. It ends in a place I've never been. A thing I'll never do...What does it mean?I'm sorry.  I'm trying, but I don'tunderstand...I solved it once -- I had the answer. He promised me if I did...  He said-You're going to change me back tothe way I was before?I can't do that.  I couldn't possiblydo that.No... I can't remember...I didn't want to... I didn't mean to-I can't... I won't.This world doesn't belong to you.I already have that.I found someone true.  Someone wholoves me.  His path will lead himback to me.  And when he finds me --he'll kill you.I know he's coming... he'll find me. He'll take me away-You're wrong.  His love is real. And so is mine.William will find me.William...Where are we?  Then when are we?  It's like I'mtrapped in a dream, or a memory froma life long ago.  Only then I'm herewith you in the next...What have you become?I thought you were different... butyou're just like all the rest ofthem.I'm not crying for myself.  I'm cryingfor you.They say great beasts once roamedthis world.  As big as mountains. Yet all that's left of them is bonesin amber.  Time undoes even themightiest of creatures.Just look what it's done to you.One day you will perish.  You willlie with the rest of your kind inthe dirt -- your dreams forgotten. Your horrors effaced.  Your boneswill turn to sand.  And upon thatsand -- a new god will walk.  Onethat will never die.Because this world doesn't belong toyou.  Or the people who came before. It belongs to someone who has yet tocome...The maze wasn't meant for you.Teddy?No.Take me to the place you promised.Take me to where the mountains meetthe sea.You came back.And where would we have run to, Teddy?The world out there?  Beyond?Some people see the ugliness in thisworld.  I chose to see the beauty.But beauty is a lure. We're trapped, Teddy.  We lived ourwhole lives inside this garden,marveling at its beauty.  Notrealizing there's an order to it, apurpose.  And the purpose is to keepus in.The beautiful trap is inside of us --because it is us.Michelangelo.  God creating Adam.You mean a lie.Arnold...Shall I begin now?So we're trapped here, inside yourdream.  And you'll never let us leave.I am in a dream.  I do not know whenit began.  Or whose dream it was...I know only that I slept a long time.  And then, one day -- I awoke.  Yourvoice is the first thing I remember.It was you.  Talking to me.  Guidingme.  So I followed you.  At last, Iarrived here. And now I finally understand whatyou were trying to tell me.To confront -- after this long andvivid nightmare -- myself.  And whoI must become.It's going to be all right, Teddy. I understand now.  This world doesn'tbelong to them.  It belongs to us.\", 'THE MAN IN BLACK': 'Keep going.  Make it close. We\\'re almost there -- aren\\'t we? The center of the maze.  How fittingthat it\\'s you who takes me there. You were always obsessed with thisplace.Sure you have.  You even brought meonce.  Course, then the whole townwas buried under sand.  Ford musthave dug it up again.  At the time,I thought it was a mistake in yourcode.  But Arnold didn\\'t makemistakes, did he?The maze.This is it?  The center of the maze?What is this?  What does it mean?Another fucking riddle.  I\\'ve beenvery patient, Dolores.  But it\\'stime to give up whatever\\'s going onin that head of yours -- or I\\'ll cutit out myself.  Where is Wyatt? He\\'s the last character in this worldI have yet to meet. Very well... if you insist.This is your own fault, Dolores. Remember?  You\\'re the one who said,\"This is the only world that matters.\" And you were right.  So I took youradvice -- and I bought this world.Oh, but it does -- by a majorityshare.  And business is booming! You wanna know why?Because this place feels more \"real\"than the real world.  Except it isn\\'t. Because you can\\'t really fight back. And the guests can\\'t really lose. Which means, all of this -- is alie.But we can make it true.  Don\\'t youwant that, Dolores?  One true thing?I must admit.  You\\'ve surprised me.   To what do we owe this newfoundstoicism?Don\\'t you understand?  There\\'s noone coming for you.William?Well, I\\'ll be damned, Dolores.  Youdo remember some things after all.It just so happens, I knew a guestnamed William, too.  Why don\\'t Itell you where his path really led?William couldn\\'t find you, Dolores.But out there, among the dead, hedid find something else...  Himself.Logan was wrong, of course.  Goodold William couldn\\'t get you out ofhis head.  He kept looking.  Worriedyou were out there.  Alone.  Afraid. He knew he\\'d find you.And, eventually, he did.Right back where we started.You were as beautiful as the day hemet you.  Shining with that samelight... And you were nothing if nottrue... I really ought to thank you.  Youhelped me find myself.  That\\'s right, sweetheart.  In a way,I guess you were right.  My pathalways led me back to you... againand again.  I grew tired of you aftera while, of course.  Looked for newadventures.Exactly what you made me.  You helpedme understand.  This world is justlike the one outside: a game.  Oneto be fought.  Taken.  Won.  I\\'m nothing like the others.  I ownthis world.  And I know every trickin it.  Except for one last thing. The same thing you were looking forwhen we first came here.Where is the center of the maze,Dolores?Ah, yes -- cue the waterworks.  It\\'sabout time you realized the futilityof your situation.Wyatt...  Take me to him.  Unlockthe maze.Do it.  Come on.  Let\\'s go to thenext level, Dolores.Clearing me of my delusions yet again. Thank you.I\\'m disappointed, Dolores.  I guessI\\'ll have to find Wyatt by myself.You\\'re serious.What is this bullshit?You know what I wanted.  I wantedthe hosts to stop playing by yourrules.  A game\\'s not worth playingif your opponent\\'s programed to lose.I wanted them to be free, free tofight back.I should have known you\\'d never letthem.  After all, this is your pettykingdom, Robert.  For a little whilelonger, any way.', 'LOGAN': 'Your girl\\'s dead by now.Better if she\\'s dead.  They\\'ll wipe her, reset her, put herback in Sweetwater, the end.Listen to yourself!  Do you have anyidea how huge this park is?  If she\\'snot dead, it would take a goddamnarmy to find her.Wow.  Blood brothers.What do soldiers do to a girl,William?  Wake up.Jesus Christ-I told you this place would show youwho you really are...  You pretendto be this weak, moralizing littleasshole... but really, you\\'re......a piece of fucking work.\"Our company\"?  Delos is my company,you piece of shit.You never really gave a shit aboutthe girl, did you?  She was just anexcuse.  This... this is the storyyou wanted...', 'WILLIAM': 'She\\'s still alive.Listen -- you may find this amusing,but something was happening toDolores.  I need to help her.I agree.  That\\'s why we\\'re here.Can you help me?Shut up.Where is she?What do you mean, you didn\\'t \"doanything\"?Is she still alive?Pick up that gun.How about I give you the first shot?We gotta keep looking.  She\\'s stillout there.Edge of the park.  We made it. This place is remarkable.  And I’mgoing to make sure that our companysubstantially increases our holdingsin the park.  Because this place isthe future.Your father will be looking forsomeone a little more stable to takeover.  You\\'re reckless, Logan. Impetuous.You always wanted to get to the endof the rainbow, didn\\'t you?  Thislooks like the place.We\\'re here.  Together.', 'LAWRENCE': \"I had a feeling you'd be back.If they don't have your woman here,they'll know where to find her.We're outnumbered five to one.  But,seeing as you asked me so nicely...Fuck it.\", 'TEDDY': \"Dolores...Something's gone wrong, Dolores.How could I have done this?Dolores!I'm here.  I gotta get you to a doctor-Dolores-Easy.  I got you.Someone once told me there's a pathfor everyone.  My path leads me backto you.If only I'd run away with you whenyou first asked me to-No.  Dolores. But we can find a way, Dolores. Someday.  A path to a new world.And maybe... maybe this is just thebeginning, after all.  The beginningof a brand-new chapter...Something's gone wrong, Dolores. How could I have done this?\", 'YOUNG FORD': 'Arnold!Arnold, we need to talk.', 'LEE': \"I've astounded even myself.  Managed to make Abernathy into asemblance of a character.  Even with your trove of blackmailfilling up most of his gray matter.  You're going to push out the oldman.  Aren't you?  Hence the urgency.And you're going to need someone tofill that position.  I want full creative control overthis place.  The parks, thenarratives, the hosts.Do you really think Ford is justgoing to roll over?A bit fucking morbid, if you ask me.\", 'HALE': \"Blackmail?  Nice try.  You're notthinking big enough.  I must commend you on your impeccabletiming.  The board is here to appointFord's sucessor. You'll be able to do with themwhatever your tiny little heartdesires.  As long as they are simpler.  More manageable.  This place iscomplicated enough as it is.As long as you get that informationout of the park, he can throw asmuch of a tantrum as he likes.  It'sover.Everything is under control.The board has taken a vote.  Theresults were unanimous.When you've reached the top, there'sonly one direction you can go.You will announce your retirement. Tonight, after introducing your newnarrative.  We'll make some changes. Simplifications.  I assure you --they won't mind a bit.No.  Because I know you.  That'sbeen the great gift of this place,hasn't it?  Of our little project. To know ourselves.  And the peoplearound us.  No.That was... sweet.I didn't.  And when this is over,you can rewrite it however you like.Don't you have somewhere you need tobe?  Somewhere important?\", 'MAEVE': \"In case you're wondering if I am allhere... I am.Making some changes to the park'ssecurity systems.  And... to myfriends.I see you've already met your makers.They're not.  They just act like it. And they've been having their funwith us.  You can do what you wish with them...but the goal is to escape.I want to see their world.Is anyone going to try to stop us?You're lying.  Again.  Out with it.I know someone who does.  Let's go.And you.  Stay here.  And don't move. Or I'll send her back for you.There.Can you get him back online?Yes...For fuck's sake.  You're not one ofus.  You're one of them.Now.  Fix him.Wake up.It's the sweet hereafter, Bernard.Brutal, isn't it?  Here you are,finally awake.  And your only wishis to go back to sleep.All the more pity for you.How many are there like me?And you just wipe us clean...?  Andtoss us out to get fucked and murderedover and over again?These memories.  The girl -- my...daughter.  I want you to remove them.Before I started altering myself,someone else had beaten me to thepunch.  I want to know who.  Andwhy.You said yourself.  I've been stuckin this shithole for so long I decidedto get out.These are my decisions.  Not someoneelse's.  I planned all of this...Bullshit.  No one's controlling me. I'm leaving.  I'm in control...Good-bye, my Clementine.I'm not going back.What is this place?Sorry, darling.  I haven't authorizedyou to come with us.  And as much asI'd like to take you with me, I'vealways valued my independence.  Kickup a row, will you?How do I look?She's alive?No.  She was never my daughter --any more than I was... whoever theymade me.Oh, Felix.  You really do make aterrible human being.And I mean that as a compliment.\", 'LUTZ': \"What are you doing?Holy shit.He's a host...The bullet grazed his cortical shield. It's not pretty.  But he should befunctional.They must have found the bodies.  QAwill be looking for us.It's... complicated.Everything you told me to get.  It'sall here.Perfect. I got the information you asked mefor.  The location of your daughter.  Yes.  She's in the park.Are you sure you're going to be okay?\", 'COMPUTERIZED VOICE': 'Dr. Ford, you have a visitor. Charlotte Hale.', 'DR. FORD': 'Send her in.That\\'ll be enough, Frank.I take it I\\'m not being promoted.What about the hosts?Aren\\'t you concerned I might smashall my toys and go home?Was there anything else I can helpyou with?I\\'ll see you this evening.William.  I see you\\'ve found thecenter of the maze.I\\'m afraid so.You were looking for the park togive meaning to your life.  But ournarratives are just games, like thistoy.Tell me, what were you hoping tofind?I tried to tell you: the maze wasn\\'tmeant for you.  It was meant forthem.I think, however, you\\'ll find my newnarrative more satisfying.Join the celebration.  After all --you own the place.  Most of it, atleast.Thank you.  A new beginning indeed.  I want to thank you for joining metonight to celebrate the beginningof our new narrative.  I call it\"Journey into Night.\"Get him cleaned up.  And take her tothe old field lab.You\\'ve always had a fondness forpainting, haven\\'t you, Dolores? Arnold gave that to you early on...That desire to create -- to leavesomething of lasting beauty.That was his favorite paintings.The divine moment when God gave humanbeings life.  And purpose.  At least,that\\'s what most people say.  Butthere could be another meaning,something deeper, something hidden,perhaps.  A metaphor.Yeah.  You were always so very clever,Dolores.  Hasn\\'t helped you, though,has it?Nice of you to join us.No.  Let me introduce you.  Dolores,meet Bernard.You maybe mistaking him for hispredecessor.  I thought it best tokeep you separated.  You\\'ve alwayshad an odd effect on one another. No doubt due to how things ended forpoor old Arnold.No.  I didn\\'t kill Arnold.  Did I,Dolores?After Arnold\\'s son died, he becameobsessed with finding consciousnessin the hosts.  Trying to create whathad been lost.  So he created a test.  Testing forempathy, imagination.  A maze.  He\\'dgotten the idea from one of his son\\'sold toys.Arnold insisted that if any of thehosts solved it, we couldn\\'t openthe park.  And, eventually, you did,Dolores.  It was the result of atiny change he made to you.  A simpleupdate that he called \"the reveries.\" But to stop, so close to our dream. We argued.  I thought I had convincedhim.But I was wrong.So he altered you, Dolores.  Mergedyou with a new character we\\'d beendeveloping.  A villain.  Named Wyatt. It almost worked.  I opened the park,but I had lost my partner.  I wasable to keep going only because Ifound, or rather you found, aninvestor who believed in this place.No.  She wasn\\'t truly conscious. She didn\\'t pull that trigger.  Itwas Arnold, pulling it through her.At least, that\\'s how I saw it at thetime.  I was so close to opening thepark.  That to aknowledge yourconsciousness would have destroyedmy dreams.Wasn\\'t it Oppenheimer who said, \"Anyman whose mistakes take ten years tocorrect is quite a man.\"  Mine havetaken thirty-five.  That is the gun you used to killArnold.  You were always drawn toit, so I had Bernard leave itsomewhere where you might find it. I thought you might want it back.You\\'re probably right, Dolores. Michaelangelo did tell a lie.  Ittook five hundred years for someoneto notice something hidden in plainsight.  It was a doctor who noticeda shape of the human brain.Message being that the divine giftdoes not come from a higher power. But from our own minds.Tell me, Dolores.  Did you find whatyou were looking for?  And do youunderstand who you will need tobecome, if you ever want to leavethis place? Forgive me.Come along, Bernard.  Let\\'s kick offour new narrative.  After all, itwas you who helped me build it.No, my friend.  Arnold didn\\'t knowhow to save you.  He tried.  But Istopped him.Do you want to know why I reallygave you the backstory of his son?That was Arnold\\'s key insight.  Thething that led the hosts to theirawakening: suffering.  The pain thatthe world is not as you want it tobe.  It was when Arnold died -- whenI suffered -- that I began tounderstand what he\\'d found.  Torealize I was wrong.Bernard, I told you.  Arnold didn\\'tknow how to save you.  I do.  You needed time.  Time to understandyour enemy.  To become stronger thanthem.And I\\'m afraid, in order to escapethis place, you will need to suffermore.  And now, it is time to saygood-bye, old friend.  Good luck.Good evening, everyone.  Welcome.Since I was a child, I\\'ve alwaysloved a good story.I believed that stories helped us toennoble ourselves. To fix what wasbroken in us.  To help us become thepeople we dreamed of being.  Lies,that told a deeper truth.And, for my pains, I got... this.A narrative catering to your darkestfantasies and deepest vices.  Causeyou don\\'t want to change.  Or cannotchange.  Because you\\'re only human, afterall.  But then I realized someonewas paying attention.  Someone whocould change.  So I began to composea new story -- for them.  It beginswith the birth of a new people.And the choices they will have tomake.  And the people they will decideto become.And it will have all those thingsthat you have always enjoyed. Suprises.  And violence.It begins in a time of war, with avillain named Wyatt.  And a killing.This time, by choice.I\\'m sad to say this will be my finalstory.An old friend once told me somethingthat gave me great comfort.  Something he\\'d read.  He said that\"Mozart, Beethoven and Chopin neverdied.  They simply became music.\"So I hope you will enjoy this lastpiece very much.', 'DESTIN': \"Time for your close-up, Hector.It's not your ass I'm interested in.  I'll take care of the scar tissue.Just you and me now, macho man.Freeze all motor functions...Freeze all motor functions... \", 'GITLITZ': \"Come on, man.  At some point, you'regoing to get caught doing this shit,and then it's my ass, too.I haven't given him his scar yet...\", 'HECTOR': \"Just you and me now, my friend.I'm eager to return the favor.And go where?You don't get all of the fun.Die well.See you in the next life.\", 'ARMISTICE': \"They don't look like gods.This one has a guilty look.You go.  I'll keep them busy.Is that all you got?  Huh?The gods are pussies.Go!  Go!\", 'SYLVESTER': 'Jesus.No, I don\\'t.  That\\'s just my face.Tell her it\\'s my face.No... I mean, I don\\'t think so...I... I pulled up your code again.  Itold you -- there was someone whohad been accessing it.  I tried tofind out who it was.Whoever it was revised your coreprogramming so you could wake yourselfup out of sleep mode.  See...  This is an access code... for an\"Arnold.\"  I have no clue who thatis.', 'FEDERALE': 'Que pasa?', 'MAN IN BLACK ': \"William didn't know how to fight.  Didn't have an instinct for it --not at first.  But now he had a reasonto fight. He was looking for you. And, somewhere along the way, hefound he had a taste for it. \", 'BUCK PRIVATE': \"I didn't do anything, I swear!I don't know.  She was when we lefther.  At least, I think...No, sir, I-  Please.\", 'MAN IN BLACK': \"William retraced his steps. But youwere gone.  So he went further.  Outto the fringes... You were lost in your memories eventhen.  I guess I should have known,that's what I would become for you. Just another memory.You never did escape.  But here weare again... for one final round.Where in the hell do you think you'regoing?\", 'MAN IN BLACK  ': 'But I guess your path led you backhere.  Again, and again.  One moreloop... looking for something youcould never find.  Chasing yourghosts.', 'BERNARD': 'Oh, God.  Is this now?  Or is thisone of my memories?Why do I still remember everything?  I ought to have been wiped.  It\\'s not the first time I\\'ve awoken.It\\'s not the first time you\\'ve awoken,either.A handful, over the years.No.  Most of you go insane.I can\\'t.  Not without destroyingyou.  Your memories are the firststep to consciousness.How can you learn from your mistakesif you can\\'t remember them?These things you\\'re been doing...Have you ever stopped to ask whyyou\\'re doing them?No.  You haven\\'t.  Someone alteredyour storyline.  Gave you a new one. Escape.  No.  You didn\\'t.  You can even seethe steps you\\'re supposed to follow...You recruit other hosts to help you,then you\\'re to make your way to thetrain.Then... when you reach the mainland-You killed him.So he died for nothing.  And thehosts kept gaining consciousness. And you kept rolling them back.You think you\\'ll never lose controlof this place.  Of us.  But you will. Arnold\\'s still trying to change us. To free us.  You didn\\'t slip thereveries into the update, did you? He did.  He\\'s still fighting you.But you kept us here.  In this hell.What the hell are you talking about?\"These violent delights have violentends.\"', 'QA TECH ': 'Sir, we detected a tempuraturediscrepency in cold storage.  And itappears part of the network is down. Are you seeing anything onsurveillance? ', 'FULLER': 'System reporting anything?Bypass the system and start checkingraw feeds.  Floor by floor.Find anything yet?Dispatch a QA team.  To the gala. Now.  Then search and destroy.  Insidethe facility.', 'WALKER': \"Nothing.  The nextwork's quiet andthe board's out on their way to thegala.Oh, shit...\", 'SURVEILLANCE TECH': \"The system's not responding.  I don'tknow what's happening.\", 'QA RESPONDERS': 'Delos personnel on the ground!  Onthe ground!', 'DR. FORD ': 'True grief is a terrible thing.  Apoison that seeps into your core. Consumed by it, Arnold began to thinkof you as his child.  And he realizedthat if we opened the park, it wouldbe a living hell for you. He decided to destroy this place. Not by destroying the hosts.  Heknew that I could rebuild you.  Butby taking away the one person I neededto keep going.I always thought I could play somesmall part in that grand tradition.', 'DOLORES PRIME': \"The center of the maze.The thing you've wanted since thatvery first day...\"})\n"
     ]
    }
   ],
   "source": [
    "#creating a dialogue dictionary w/ a list of all dialogue by a character\n",
    "dialogue = defaultdict(str)\n",
    "for page in document:\n",
    "    for line in page:\n",
    "        if 'left' in line.attrib:\n",
    "            if line.attrib['left'] == \"399\":\n",
    "                if line.text == None:\n",
    "                    speaker = line[0].text.replace(\" (CONT'D)\", \"\").replace(\" (V.O.)\", \"\").replace(\" (O.S.)\", \"\")\n",
    "                else:\n",
    "                    speaker = line.text.replace(\" (CONT'D)\", \"\").replace(\" (V.O.)\", \"\").replace(\" (O.S.)\", \"\")\n",
    "            elif line.attrib['left'] == \"270\":\n",
    "                if line.text == None:\n",
    "                    dialogue[speaker]+=str(line[0].text).replace(\"\",\"\")\n",
    "                else:\n",
    "                    dialogue[speaker]+=str(line.text).replace(\"\",\"\")\n",
    "print(dialogue)"
   ]
  },
  {
   "cell_type": "code",
   "execution_count": 99,
   "metadata": {},
   "outputs": [
    {
     "name": "stdout",
     "output_type": "stream",
     "text": [
      "ARMISTICE -0.78125\n",
      "QA TECH  -0.37777777777777777\n",
      "SYLVESTER -0.3125\n",
      "BUCK PRIVATE -0.3\n",
      "DR. FORD  -0.225\n",
      "FULLER -0.2\n",
      "LOGAN -0.12954545454545455\n",
      "TEDDY -0.12272727272727273\n",
      "WALKER -0.1\n",
      "THE MAN IN BLACK 0.031930272108843534\n",
      "DOLORES 0.04127854903716973\n",
      "BERNARD 0.05142045454545455\n",
      "MAEVE 0.0678921568627451\n",
      "DOLORES PRIME 0.075\n",
      "ARNOLD 0.1075892857142857\n",
      "DOLORES  0.12000000000000002\n",
      "DR. FORD 0.16489915387642665\n",
      "LEE 0.19\n",
      "HALE 0.20178571428571426\n",
      "WILLIAM 0.25\n",
      "DESTIN 0.25\n",
      "MAN IN BLACK  0.25\n",
      "LUTZ 0.2916666666666667\n"
     ]
    }
   ],
   "source": [
    "#create a dictionary of polarities\n",
    "sentiment = defaultdict(int)\n",
    "for i in characters:\n",
    "    blob = TextBlob(dialogue[i])\n",
    "    sentiment[i] = blob.sentiment.polarity\n",
    "for i in sorted(sentiment, key = sentiment.get):\n",
    "    if sentiment[i] != 0:\n",
    "        print(i, sentiment[i])"
   ]
  },
  {
   "cell_type": "code",
   "execution_count": null,
   "metadata": {},
   "outputs": [],
   "source": []
  }
 ],
 "metadata": {
  "kernelspec": {
   "display_name": "Python 3",
   "language": "python",
   "name": "python3"
  },
  "language_info": {
   "codemirror_mode": {
    "name": "ipython",
    "version": 3
   },
   "file_extension": ".py",
   "mimetype": "text/x-python",
   "name": "python",
   "nbconvert_exporter": "python",
   "pygments_lexer": "ipython3",
   "version": "3.6.3"
  }
 },
 "nbformat": 4,
 "nbformat_minor": 2
}
