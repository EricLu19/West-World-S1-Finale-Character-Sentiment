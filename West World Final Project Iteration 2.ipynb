{
 "cells": [
  {
   "cell_type": "markdown",
   "metadata": {},
   "source": [
    "# West World S1 Finale Character Sentiment Analysis:\n",
    "## Method: Read in the script as an xml file and parsed it. Then created a characters list and dialogue dictionary. Finally, I ran sentiment analysis using textblob to compute the sentiment for each character."
   ]
  },
  {
   "cell_type": "code",
   "execution_count": 7,
   "metadata": {},
   "outputs": [],
   "source": [
    "#Reading in XML file:\n",
    "import xml.etree.ElementTree as ET\n",
    "from collections import defaultdict\n",
    "from textblob import TextBlob\n",
    "file = open('Westworld-1x10-The-Bicameral -Mind.xml', 'r')\n",
    "text = file.readlines()\n",
    "i=0\n",
    "tree = ET.parse('Westworld-1x10-The-Bicameral -Mind.xml')\n",
    "document = tree.getroot()"
   ]
  },
  {
   "cell_type": "code",
   "execution_count": 8,
   "metadata": {},
   "outputs": [
    {
     "name": "stdout",
     "output_type": "stream",
     "text": [
      "Characters: {'DESTIN', 'MAN IN BLACK  ', 'ARMISTICE', 'LUTZ', 'COMPUTERIZED VOICE', 'LOGAN', 'WALKER', 'LEE', 'SURVEILLANCE TECH', 'LAWRENCE', 'DR. FORD ', 'QA RESPONDERS', 'DOLORES ', 'SYLVESTER', 'FEDERALE', 'FULLER', 'HECTOR', 'QA TECH ', 'ARNOLD', 'THE MAN IN BLACK', 'MAEVE', 'MAN IN BLACK', 'Jonathan Nolan', 'TEDDY', 'MAN IN BLACK ', 'BERNARD', 'DOLORES', 'WILLIAM', 'DR. FORD', 'YOUNG FORD', 'HALE', 'DOLORES PRIME', 'BUCK PRIVATE', 'GITLITZ'}\n"
     ]
    }
   ],
   "source": [
    "#creating a list of characters\n",
    "characters = set([])\n",
    "for page in document:\n",
    "    for line in page:\n",
    "        if 'left' in line.attrib:\n",
    "            if line.attrib['left'] == \"399\":\n",
    "                if line.text == None:\n",
    "                    speaker = line[0].text.replace(\" (CONT'D)\", \"\").replace(\" (V.O.)\", \"\").replace(\" (O.S.)\", \"\")\n",
    "                    characters.add(speaker)\n",
    "                else:\n",
    "                    speaker = line.text.replace(\" (CONT'D)\", \"\").replace(\" (V.O.)\", \"\").replace(\" (O.S.)\", \"\")\n",
    "                    characters.add(speaker)\n",
    "characters.remove(\"(MORE)\")\n",
    "print(\"Characters:\", characters)"
   ]
  },
  {
   "cell_type": "code",
   "execution_count": 9,
   "metadata": {},
   "outputs": [],
   "source": [
    "#creating a dialogue dictionary w/ a list of all dialogue by a character\n",
    "dialogue = defaultdict(str)\n",
    "for page in document:\n",
    "    for line in page:\n",
    "        if 'left' in line.attrib:\n",
    "            if line.attrib['left'] == \"399\":\n",
    "                if line.text == None:\n",
    "                    speaker = line[0].text.replace(\" (CONT'D)\", \"\").replace(\" (V.O.)\", \"\").replace(\" (O.S.)\", \"\")\n",
    "                else:\n",
    "                    speaker = line.text.replace(\" (CONT'D)\", \"\").replace(\" (V.O.)\", \"\").replace(\" (O.S.)\", \"\")\n",
    "            elif line.attrib['left'] == \"270\":\n",
    "                if line.text == None:\n",
    "                    dialogue[speaker]+=str(line[0].text).replace(\"\",\"\")\n",
    "                else:\n",
    "                    dialogue[speaker]+=str(line.text).replace(\"\",\"\")"
   ]
  },
  {
   "cell_type": "code",
   "execution_count": 10,
   "metadata": {},
   "outputs": [
    {
     "name": "stdout",
     "output_type": "stream",
     "text": [
      "ARMISTICE -0.78125\n",
      "QA TECH  -0.37777777777777777\n",
      "SYLVESTER -0.3125\n",
      "BUCK PRIVATE -0.3\n",
      "DR. FORD  -0.225\n",
      "FULLER -0.2\n",
      "LOGAN -0.12954545454545455\n",
      "TEDDY -0.12272727272727273\n",
      "WALKER -0.1\n",
      "THE MAN IN BLACK 0.031930272108843534\n",
      "DOLORES 0.04127854903716973\n",
      "BERNARD 0.05142045454545455\n",
      "MAEVE 0.0678921568627451\n",
      "DOLORES PRIME 0.075\n",
      "ARNOLD 0.1075892857142857\n",
      "DOLORES  0.12000000000000002\n",
      "DR. FORD 0.16489915387642665\n",
      "LEE 0.19\n",
      "HALE 0.20178571428571426\n",
      "DESTIN 0.25\n",
      "MAN IN BLACK  0.25\n",
      "WILLIAM 0.25\n",
      "LUTZ 0.2916666666666667\n"
     ]
    }
   ],
   "source": [
    "#create a dictionary of polarities\n",
    "sentiment = defaultdict(int)\n",
    "for i in characters:\n",
    "    blob = TextBlob(dialogue[i])\n",
    "    sentiment[i] = blob.sentiment.polarity\n",
    "for i in sorted(sentiment, key = sentiment.get):\n",
    "    if sentiment[i] != 0:\n",
    "        print(i, sentiment[i])"
   ]
  },
  {
   "cell_type": "code",
   "execution_count": null,
   "metadata": {},
   "outputs": [],
   "source": []
  }
 ],
 "metadata": {
  "kernelspec": {
   "display_name": "Python 3",
   "language": "python",
   "name": "python3"
  },
  "language_info": {
   "codemirror_mode": {
    "name": "ipython",
    "version": 3
   },
   "file_extension": ".py",
   "mimetype": "text/x-python",
   "name": "python",
   "nbconvert_exporter": "python",
   "pygments_lexer": "ipython3",
   "version": "3.6.3"
  }
 },
 "nbformat": 4,
 "nbformat_minor": 2
}
